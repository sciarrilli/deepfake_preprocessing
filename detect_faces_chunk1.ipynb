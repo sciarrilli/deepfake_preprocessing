{
 "cells": [
  {
   "cell_type": "code",
   "execution_count": 6,
   "metadata": {},
   "outputs": [],
   "source": [
    "import json\n",
    "import cv2\n",
    "import os\n",
    "import shutil\n",
    "import numpy as np\n",
    "from tqdm import tqdm\n",
    "from dlib import get_frontal_face_detector\n",
    "from matplotlib import pyplot as plt\n",
    "import multiprocessing as mp"
   ]
  },
  {
   "cell_type": "code",
   "execution_count": 7,
   "metadata": {},
   "outputs": [],
   "source": [
    "chunk = 1"
   ]
  },
  {
   "cell_type": "code",
   "execution_count": 8,
   "metadata": {},
   "outputs": [],
   "source": [
    "real_dir = f'/data/deepfake/dfdc_train_part_{chunk}/real'\n",
    "fake_dir = f'/data/deepfake/dfdc_train_part_{chunk}/fake'"
   ]
  },
  {
   "cell_type": "code",
   "execution_count": 9,
   "metadata": {},
   "outputs": [],
   "source": [
    "# make faces directory\n",
    "\n",
    "faces_real_dir = f'/data/deepfake/dfdc_train_part_{chunk}/faces/real'\n",
    "faces_fake_dir = f'/data/deepfake/dfdc_train_part_{chunk}/faces/fake'\n",
    "\n",
    "os.makedirs(faces_real_dir, exist_ok=True)\n",
    "os.makedirs(faces_fake_dir, exist_ok=True)"
   ]
  },
  {
   "cell_type": "code",
   "execution_count": 10,
   "metadata": {},
   "outputs": [],
   "source": [
    "real_image_list = os.listdir(real_dir)\n",
    "fake_image_list = os.listdir(fake_dir)"
   ]
  },
  {
   "cell_type": "code",
   "execution_count": 11,
   "metadata": {},
   "outputs": [
    {
     "data": {
      "text/plain": [
       "'bnaqqefxll_150.jpg'"
      ]
     },
     "execution_count": 11,
     "metadata": {},
     "output_type": "execute_result"
    }
   ],
   "source": [
    "fake_image_list[0].split('/')[-1]"
   ]
  },
  {
   "cell_type": "code",
   "execution_count": 12,
   "metadata": {},
   "outputs": [],
   "source": [
    "real_image_list = [os.path.join(real_dir, image) for image in real_image_list]   \n",
    "fake_image_list = [os.path.join(fake_dir, image) for image in fake_image_list]  "
   ]
  },
  {
   "cell_type": "code",
   "execution_count": 13,
   "metadata": {},
   "outputs": [],
   "source": [
    "detector = get_frontal_face_detector()\n",
    "\n",
    "\n",
    "def detectFaces(imageFile, output):\n",
    "    faces = []\n",
    "    filename = imageFile.split('/')[-1]\n",
    "    out_path = os.path.join(output, filename)\n",
    "\n",
    "    image = cv2.imread(imageFile, 1)\n",
    "    image = cv2.cvtColor(image, cv2.COLOR_BGR2RGB)\n",
    "    gray = cv2.cvtColor(image, cv2.COLOR_BGR2GRAY)\n",
    "    faces = detector(gray, 2)\n",
    "\n",
    "    if len(faces) > 0:\n",
    "        face = faces[0]\n",
    "    else:\n",
    "        face\n",
    "    \n",
    "    face_image = image[face.top():face.bottom(), face.left():face.right()]\n",
    "    face_image = cv2.resize(face_image, (224, 224))\n",
    "\n",
    "    cv2.imwrite(out_path, face_image)\n"
   ]
  },
  {
   "cell_type": "code",
   "execution_count": 14,
   "metadata": {},
   "outputs": [
    {
     "name": "stderr",
     "output_type": "stream",
     "text": [
      "100%|██████████| 108/108 [05:26<00:00,  3.03s/it]\n"
     ]
    }
   ],
   "source": [
    "for image in tqdm(real_image_list):\n",
    "    try:\n",
    "        detectFaces(image, faces_real_dir)\n",
    "    except:\n",
    "        pass"
   ]
  },
  {
   "cell_type": "code",
   "execution_count": 15,
   "metadata": {},
   "outputs": [
    {
     "name": "stderr",
     "output_type": "stream",
     "text": [
      "100%|██████████| 1591/1591 [1:30:55<00:00,  3.43s/it]\n"
     ]
    }
   ],
   "source": [
    "for image in tqdm(fake_image_list):\n",
    "    try:\n",
    "        detectFaces(image, faces_fake_dir)\n",
    "    except:\n",
    "        pass"
   ]
  },
  {
   "cell_type": "code",
   "execution_count": null,
   "metadata": {},
   "outputs": [],
   "source": []
  },
  {
   "cell_type": "code",
   "execution_count": null,
   "metadata": {},
   "outputs": [],
   "source": []
  }
 ],
 "metadata": {
  "kernelspec": {
   "display_name": "Python 3",
   "language": "python",
   "name": "python3"
  },
  "language_info": {
   "codemirror_mode": {
    "name": "ipython",
    "version": 3
   },
   "file_extension": ".py",
   "mimetype": "text/x-python",
   "name": "python",
   "nbconvert_exporter": "python",
   "pygments_lexer": "ipython3",
   "version": "3.7.4"
  }
 },
 "nbformat": 4,
 "nbformat_minor": 4
}
