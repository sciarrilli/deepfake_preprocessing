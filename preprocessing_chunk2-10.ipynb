{
 "cells": [
  {
   "cell_type": "code",
   "execution_count": 1,
   "metadata": {},
   "outputs": [],
   "source": [
    "import json\n",
    "import cv2\n",
    "import os\n",
    "import shutil\n",
    "import numpy as np\n",
    "from tqdm import tqdm"
   ]
  },
  {
   "cell_type": "code",
   "execution_count": 2,
   "metadata": {},
   "outputs": [],
   "source": [
    "def preprocess(chunk):\n",
    "    videos_dir = f'/data/deepfake/dfdc_train_part_{chunk}'\n",
    "    real_dir = f'/data/deepfake/dfdc_train_part_{chunk}/real'\n",
    "    fake_dir = f'/data/deepfake/dfdc_train_part_{chunk}/fake'\n",
    "    label_file = f'/data/deepfake/dfdc_train_part_{chunk}/metadata.json'\n",
    "    \n",
    "    os.makedirs(real_dir, exist_ok=True)\n",
    "    os.makedirs(fake_dir, exist_ok=True)\n",
    "    \n",
    "    with open(label_file) as f:\n",
    "        labels = json.load(f)\n",
    "        \n",
    "    videos = os.listdir(videos_dir)\n",
    "    \n",
    "    def getFrames(videoFile, frame_no, output_dir):\n",
    "        video = videoFile.split('/')[-1]\n",
    "        jpg = video[:-4] + '_' + str(frame_no) + '.jpg'\n",
    "        output = os.path.join(output_dir, jpg)\n",
    "        cap = cv2.VideoCapture(videoFile)\n",
    "        cap.set(1,frame_no)\n",
    "        ret, frame = cap.read()\n",
    "        cv2.imwrite(output, frame)\n",
    "        cap.release()\n",
    "        \n",
    "        \n",
    "    for v in videos:\n",
    "        if v.endswith('mp4'):\n",
    "            if labels[v]['label'] == 'FAKE':\n",
    "                # set video path and get 150th frame\n",
    "                v = os.path.join(videos_dir, v)\n",
    "                try:\n",
    "                    getFrames(v, 150, fake_dir)\n",
    "                except:\n",
    "                    pass\n",
    "                \n",
    "            else:\n",
    "                # set video path and get 150th frame\n",
    "                v = os.path.join(videos_dir, v)\n",
    "                try:\n",
    "                    getFrames(v, 150, real_dir)\n",
    "                except:\n",
    "                    pass"
   ]
  },
  {
   "cell_type": "code",
   "execution_count": 3,
   "metadata": {
    "scrolled": true
   },
   "outputs": [
    {
     "name": "stderr",
     "output_type": "stream",
     "text": [
      "\r",
      "  0%|          | 0/7 [00:00<?, ?it/s]"
     ]
    },
    {
     "name": "stdout",
     "output_type": "stream",
     "text": [
      "preprocessing chunk #4...\n"
     ]
    },
    {
     "name": "stderr",
     "output_type": "stream",
     "text": [
      "\r",
      " 14%|█▍        | 1/7 [10:46<1:04:38, 646.33s/it]"
     ]
    },
    {
     "name": "stdout",
     "output_type": "stream",
     "text": [
      "preprocessing chunk #5...\n"
     ]
    },
    {
     "name": "stderr",
     "output_type": "stream",
     "text": [
      "\r",
      " 29%|██▊       | 2/7 [27:47<1:03:13, 758.67s/it]"
     ]
    },
    {
     "name": "stdout",
     "output_type": "stream",
     "text": [
      "preprocessing chunk #6...\n"
     ]
    },
    {
     "name": "stderr",
     "output_type": "stream",
     "text": [
      "\r",
      " 43%|████▎     | 3/7 [43:22<54:06, 811.72s/it]  "
     ]
    },
    {
     "name": "stdout",
     "output_type": "stream",
     "text": [
      "preprocessing chunk #7...\n"
     ]
    },
    {
     "name": "stderr",
     "output_type": "stream",
     "text": [
      "\r",
      " 57%|█████▋    | 4/7 [59:43<43:07, 862.42s/it]"
     ]
    },
    {
     "name": "stdout",
     "output_type": "stream",
     "text": [
      "preprocessing chunk #8...\n"
     ]
    },
    {
     "name": "stderr",
     "output_type": "stream",
     "text": [
      "\r",
      " 71%|███████▏  | 5/7 [1:11:49<27:22, 821.46s/it]"
     ]
    },
    {
     "name": "stdout",
     "output_type": "stream",
     "text": [
      "preprocessing chunk #9...\n"
     ]
    },
    {
     "name": "stderr",
     "output_type": "stream",
     "text": [
      "\r",
      " 86%|████████▌ | 6/7 [1:23:15<13:00, 780.79s/it]"
     ]
    },
    {
     "name": "stdout",
     "output_type": "stream",
     "text": [
      "preprocessing chunk #10...\n"
     ]
    },
    {
     "name": "stderr",
     "output_type": "stream",
     "text": [
      "100%|██████████| 7/7 [1:38:15<00:00, 842.23s/it]\n"
     ]
    }
   ],
   "source": [
    "for i in tqdm(range(4, 11)):\n",
    "    print(f'preprocessing chunk #{i}...')\n",
    "    preprocess(i)"
   ]
  },
  {
   "cell_type": "code",
   "execution_count": null,
   "metadata": {},
   "outputs": [],
   "source": []
  }
 ],
 "metadata": {
  "kernelspec": {
   "display_name": "Python 3",
   "language": "python",
   "name": "python3"
  },
  "language_info": {
   "codemirror_mode": {
    "name": "ipython",
    "version": 3
   },
   "file_extension": ".py",
   "mimetype": "text/x-python",
   "name": "python",
   "nbconvert_exporter": "python",
   "pygments_lexer": "ipython3",
   "version": "3.7.4"
  }
 },
 "nbformat": 4,
 "nbformat_minor": 4
}
