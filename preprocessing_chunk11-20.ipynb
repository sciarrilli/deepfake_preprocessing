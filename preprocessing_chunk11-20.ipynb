{
 "cells": [
  {
   "cell_type": "code",
   "execution_count": 1,
   "metadata": {},
   "outputs": [],
   "source": [
    "import json\n",
    "import cv2\n",
    "import os\n",
    "import shutil\n",
    "import numpy as np\n",
    "from tqdm import tqdm"
   ]
  },
  {
   "cell_type": "code",
   "execution_count": 2,
   "metadata": {},
   "outputs": [],
   "source": [
    "def preprocess(chunk):\n",
    "    videos_dir = f'/data/deepfake/dfdc_train_part_{chunk}'\n",
    "    real_dir = f'/data/deepfake/dfdc_train_part_{chunk}/real'\n",
    "    fake_dir = f'/data/deepfake/dfdc_train_part_{chunk}/fake'\n",
    "    label_file = f'/data/deepfake/dfdc_train_part_{chunk}/metadata.json'\n",
    "    \n",
    "    os.makedirs(real_dir, exist_ok=True)\n",
    "    os.makedirs(fake_dir, exist_ok=True)\n",
    "    \n",
    "    with open(label_file) as f:\n",
    "        labels = json.load(f)\n",
    "        \n",
    "    videos = os.listdir(videos_dir)\n",
    "    \n",
    "    def getFrames(videoFile, frame_no, output_dir):\n",
    "        video = videoFile.split('/')[-1]\n",
    "        jpg = video[:-4] + '_' + str(frame_no) + '.jpg'\n",
    "        output = os.path.join(output_dir, jpg)\n",
    "        cap = cv2.VideoCapture(videoFile)\n",
    "        cap.set(1,frame_no)\n",
    "        ret, frame = cap.read()\n",
    "        cv2.imwrite(output, frame)\n",
    "        cap.release()\n",
    "        \n",
    "        \n",
    "    for v in videos:\n",
    "        if v.endswith('mp4'):\n",
    "            if labels[v]['label'] == 'FAKE':\n",
    "                # set video path and get 150th frame\n",
    "                v = os.path.join(videos_dir, v)\n",
    "                try:\n",
    "                    getFrames(v, 150, fake_dir)\n",
    "                except:\n",
    "                    pass\n",
    "                \n",
    "            else:\n",
    "                # set video path and get 150th frame\n",
    "                v = os.path.join(videos_dir, v)\n",
    "                try:\n",
    "                    getFrames(v, 150, real_dir)\n",
    "                except:\n",
    "                    pass"
   ]
  },
  {
   "cell_type": "code",
   "execution_count": 3,
   "metadata": {
    "scrolled": true
   },
   "outputs": [
    {
     "name": "stderr",
     "output_type": "stream",
     "text": [
      "\r",
      "  0%|          | 0/10 [00:00<?, ?it/s]"
     ]
    },
    {
     "name": "stdout",
     "output_type": "stream",
     "text": [
      "preprocessing chunk #11...\n"
     ]
    },
    {
     "name": "stderr",
     "output_type": "stream",
     "text": [
      "\r",
      " 10%|█         | 1/10 [12:30<1:52:33, 750.39s/it]"
     ]
    },
    {
     "name": "stdout",
     "output_type": "stream",
     "text": [
      "preprocessing chunk #12...\n"
     ]
    },
    {
     "name": "stderr",
     "output_type": "stream",
     "text": [
      "\r",
      " 20%|██        | 2/10 [27:26<1:45:53, 794.21s/it]"
     ]
    },
    {
     "name": "stdout",
     "output_type": "stream",
     "text": [
      "preprocessing chunk #13...\n"
     ]
    },
    {
     "name": "stderr",
     "output_type": "stream",
     "text": [
      "\r",
      " 30%|███       | 3/10 [44:33<1:40:47, 863.89s/it]"
     ]
    },
    {
     "name": "stdout",
     "output_type": "stream",
     "text": [
      "preprocessing chunk #14...\n"
     ]
    },
    {
     "name": "stderr",
     "output_type": "stream",
     "text": [
      "\r",
      " 40%|████      | 4/10 [1:00:59<1:30:04, 900.70s/it]"
     ]
    },
    {
     "name": "stdout",
     "output_type": "stream",
     "text": [
      "preprocessing chunk #15...\n"
     ]
    },
    {
     "name": "stderr",
     "output_type": "stream",
     "text": [
      "\r",
      " 50%|█████     | 5/10 [1:16:07<1:15:13, 902.71s/it]"
     ]
    },
    {
     "name": "stdout",
     "output_type": "stream",
     "text": [
      "preprocessing chunk #16...\n"
     ]
    },
    {
     "name": "stderr",
     "output_type": "stream",
     "text": [
      "\r",
      " 60%|██████    | 6/10 [1:29:56<58:42, 880.58s/it]  "
     ]
    },
    {
     "name": "stdout",
     "output_type": "stream",
     "text": [
      "preprocessing chunk #17...\n"
     ]
    },
    {
     "name": "stderr",
     "output_type": "stream",
     "text": [
      "\r",
      " 70%|███████   | 7/10 [1:44:43<44:07, 882.57s/it]"
     ]
    },
    {
     "name": "stdout",
     "output_type": "stream",
     "text": [
      "preprocessing chunk #18...\n"
     ]
    },
    {
     "name": "stderr",
     "output_type": "stream",
     "text": [
      "\r",
      " 80%|████████  | 8/10 [1:59:50<29:39, 889.91s/it]"
     ]
    },
    {
     "name": "stdout",
     "output_type": "stream",
     "text": [
      "preprocessing chunk #19...\n"
     ]
    },
    {
     "name": "stderr",
     "output_type": "stream",
     "text": [
      "\r",
      " 90%|█████████ | 9/10 [2:14:07<14:40, 880.12s/it]"
     ]
    },
    {
     "name": "stdout",
     "output_type": "stream",
     "text": [
      "preprocessing chunk #20...\n"
     ]
    },
    {
     "name": "stderr",
     "output_type": "stream",
     "text": [
      "100%|██████████| 10/10 [2:26:38<00:00, 879.85s/it]\n"
     ]
    }
   ],
   "source": [
    "for i in tqdm(range(11, 21)):\n",
    "    print(f'preprocessing chunk #{i}...')\n",
    "    preprocess(i)"
   ]
  },
  {
   "cell_type": "code",
   "execution_count": null,
   "metadata": {},
   "outputs": [],
   "source": []
  }
 ],
 "metadata": {
  "kernelspec": {
   "display_name": "Python 3",
   "language": "python",
   "name": "python3"
  },
  "language_info": {
   "codemirror_mode": {
    "name": "ipython",
    "version": 3
   },
   "file_extension": ".py",
   "mimetype": "text/x-python",
   "name": "python",
   "nbconvert_exporter": "python",
   "pygments_lexer": "ipython3",
   "version": "3.7.4"
  }
 },
 "nbformat": 4,
 "nbformat_minor": 4
}
