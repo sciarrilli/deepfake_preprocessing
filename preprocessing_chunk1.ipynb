{
 "cells": [
  {
   "cell_type": "code",
   "execution_count": 6,
   "metadata": {},
   "outputs": [],
   "source": [
    "import json\n",
    "import cv2\n",
    "import os\n",
    "import shutil\n",
    "import numpy as np\n",
    "from tqdm import tqdm"
   ]
  },
  {
   "cell_type": "code",
   "execution_count": 7,
   "metadata": {},
   "outputs": [],
   "source": [
    "# set the deepfake folder chunk from 0 to 49\n",
    "chunk = 1"
   ]
  },
  {
   "cell_type": "code",
   "execution_count": 8,
   "metadata": {},
   "outputs": [],
   "source": [
    "def preprocess(chunk_num):\n",
    "    videos_dir = f'/data/deepfake/dfdc_train_part_{chunk}'\n",
    "    real_dir = f'/data/deepfake/dfdc_train_part_{chunk}/real'\n",
    "    fake_dir = f'/data/deepfake/dfdc_train_part_{chunk}/fake'\n",
    "    label_file = f'/data/deepfake/dfdc_train_part_{chunk}/metadata.json'\n",
    "    \n",
    "    os.makedirs(real_dir, exist_ok=True)\n",
    "    os.makedirs(fake_dir, exist_ok=True)\n",
    "    \n",
    "    with open(label_file) as f:\n",
    "        labels = json.load(f)\n",
    "        \n",
    "    videos = os.listdir(videos_dir)\n",
    "    \n",
    "    def getFrames(videoFile, frame_no, output_dir):\n",
    "        video = videoFile.split('/')[-1]\n",
    "        jpg = video[:-4] + '_' + str(frame_no) + '.jpg'\n",
    "        output = os.path.join(output_dir, jpg)\n",
    "        cap = cv2.VideoCapture(videoFile)\n",
    "        cap.set(1,frame_no)\n",
    "        ret, frame = cap.read()\n",
    "        cv2.imwrite(output, frame)\n",
    "        cap.release()\n",
    "        \n",
    "        \n",
    "    for v in tqdm(videos):\n",
    "        if v.endswith('mp4'):\n",
    "            if labels[v]['label'] == 'FAKE':\n",
    "                # set video path and get 150th frame\n",
    "                v = os.path.join(videos_dir, v)\n",
    "                getFrames(v, 150, fake_dir)\n",
    "                \n",
    "            else:\n",
    "                # set video path and get 150th frame\n",
    "                v = os.path.join(videos_dir, v)\n",
    "                getFrames(v, 150, real_dir)"
   ]
  },
  {
   "cell_type": "code",
   "execution_count": 9,
   "metadata": {},
   "outputs": [
    {
     "name": "stderr",
     "output_type": "stream",
     "text": [
      "100%|██████████| 1703/1703 [07:27<00:00,  3.80it/s]\n"
     ]
    }
   ],
   "source": [
    "preprocess(1)"
   ]
  }
 ],
 "metadata": {
  "kernelspec": {
   "display_name": "Python 3",
   "language": "python",
   "name": "python3"
  },
  "language_info": {
   "codemirror_mode": {
    "name": "ipython",
    "version": 3
   },
   "file_extension": ".py",
   "mimetype": "text/x-python",
   "name": "python",
   "nbconvert_exporter": "python",
   "pygments_lexer": "ipython3",
   "version": "3.7.4"
  }
 },
 "nbformat": 4,
 "nbformat_minor": 4
}
