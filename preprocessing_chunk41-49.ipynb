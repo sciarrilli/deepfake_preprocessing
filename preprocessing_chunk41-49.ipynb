{
 "cells": [
  {
   "cell_type": "code",
   "execution_count": 1,
   "metadata": {},
   "outputs": [],
   "source": [
    "import json\n",
    "import cv2\n",
    "import os\n",
    "import shutil\n",
    "import numpy as np\n",
    "from tqdm import tqdm"
   ]
  },
  {
   "cell_type": "code",
   "execution_count": 2,
   "metadata": {},
   "outputs": [],
   "source": [
    "def preprocess(chunk):\n",
    "    videos_dir = f'/data/deepfake/dfdc_train_part_{chunk}'\n",
    "    real_dir = f'/data/deepfake/dfdc_train_part_{chunk}/real'\n",
    "    fake_dir = f'/data/deepfake/dfdc_train_part_{chunk}/fake'\n",
    "    label_file = f'/data/deepfake/dfdc_train_part_{chunk}/metadata.json'\n",
    "    \n",
    "    os.makedirs(real_dir, exist_ok=True)\n",
    "    os.makedirs(fake_dir, exist_ok=True)\n",
    "    \n",
    "    with open(label_file) as f:\n",
    "        labels = json.load(f)\n",
    "        \n",
    "    videos = os.listdir(videos_dir)\n",
    "    \n",
    "    def getFrames(videoFile, frame_no, output_dir):\n",
    "        video = videoFile.split('/')[-1]\n",
    "        jpg = video[:-4] + '_' + str(frame_no) + '.jpg'\n",
    "        output = os.path.join(output_dir, jpg)\n",
    "        cap = cv2.VideoCapture(videoFile)\n",
    "        cap.set(1,frame_no)\n",
    "        ret, frame = cap.read()\n",
    "        cv2.imwrite(output, frame)\n",
    "        cap.release()\n",
    "        \n",
    "        \n",
    "    for v in videos:\n",
    "        if v.endswith('mp4'):\n",
    "            if labels[v]['label'] == 'FAKE':\n",
    "                # set video path and get 150th frame\n",
    "                v = os.path.join(videos_dir, v)\n",
    "                try:\n",
    "                    getFrames(v, 150, fake_dir)\n",
    "                except:\n",
    "                    pass\n",
    "                \n",
    "            else:\n",
    "                # set video path and get 150th frame\n",
    "                v = os.path.join(videos_dir, v)\n",
    "                try:\n",
    "                    getFrames(v, 150, real_dir)\n",
    "                except:\n",
    "                    pass"
   ]
  },
  {
   "cell_type": "code",
   "execution_count": 3,
   "metadata": {
    "scrolled": true
   },
   "outputs": [
    {
     "name": "stderr",
     "output_type": "stream",
     "text": [
      "\r",
      "  0%|          | 0/9 [00:00<?, ?it/s]"
     ]
    },
    {
     "name": "stdout",
     "output_type": "stream",
     "text": [
      "preprocessing chunk #41...\n"
     ]
    },
    {
     "name": "stderr",
     "output_type": "stream",
     "text": [
      "\r",
      " 11%|█         | 1/9 [14:29<1:55:55, 869.44s/it]"
     ]
    },
    {
     "name": "stdout",
     "output_type": "stream",
     "text": [
      "preprocessing chunk #42...\n"
     ]
    },
    {
     "name": "stderr",
     "output_type": "stream",
     "text": [
      "\r",
      " 22%|██▏       | 2/9 [30:40<1:44:59, 899.90s/it]"
     ]
    },
    {
     "name": "stdout",
     "output_type": "stream",
     "text": [
      "preprocessing chunk #43...\n"
     ]
    },
    {
     "name": "stderr",
     "output_type": "stream",
     "text": [
      "\r",
      " 33%|███▎      | 3/9 [47:16<1:32:51, 928.63s/it]"
     ]
    },
    {
     "name": "stdout",
     "output_type": "stream",
     "text": [
      "preprocessing chunk #44...\n"
     ]
    },
    {
     "name": "stderr",
     "output_type": "stream",
     "text": [
      "\r",
      " 44%|████▍     | 4/9 [1:04:55<1:20:38, 967.75s/it]"
     ]
    },
    {
     "name": "stdout",
     "output_type": "stream",
     "text": [
      "preprocessing chunk #45...\n"
     ]
    },
    {
     "name": "stderr",
     "output_type": "stream",
     "text": [
      "\r",
      " 56%|█████▌    | 5/9 [1:20:42<1:04:06, 961.74s/it]"
     ]
    },
    {
     "name": "stdout",
     "output_type": "stream",
     "text": [
      "preprocessing chunk #46...\n"
     ]
    },
    {
     "name": "stderr",
     "output_type": "stream",
     "text": [
      "\r",
      " 67%|██████▋   | 6/9 [1:35:09<46:39, 933.27s/it]  "
     ]
    },
    {
     "name": "stdout",
     "output_type": "stream",
     "text": [
      "preprocessing chunk #47...\n"
     ]
    },
    {
     "name": "stderr",
     "output_type": "stream",
     "text": [
      "\r",
      " 78%|███████▊  | 7/9 [1:49:09<30:10, 905.30s/it]"
     ]
    },
    {
     "name": "stdout",
     "output_type": "stream",
     "text": [
      "preprocessing chunk #48...\n"
     ]
    },
    {
     "name": "stderr",
     "output_type": "stream",
     "text": [
      "\r",
      " 89%|████████▉ | 8/9 [2:03:10<14:45, 885.87s/it]"
     ]
    },
    {
     "name": "stdout",
     "output_type": "stream",
     "text": [
      "preprocessing chunk #49...\n"
     ]
    },
    {
     "name": "stderr",
     "output_type": "stream",
     "text": [
      "100%|██████████| 9/9 [2:19:21<00:00, 929.04s/it]\n"
     ]
    }
   ],
   "source": [
    "for i in tqdm(range(41, 50)):\n",
    "    print(f'preprocessing chunk #{i}...')\n",
    "    preprocess(i)"
   ]
  },
  {
   "cell_type": "code",
   "execution_count": null,
   "metadata": {},
   "outputs": [],
   "source": []
  }
 ],
 "metadata": {
  "kernelspec": {
   "display_name": "Python 3",
   "language": "python",
   "name": "python3"
  },
  "language_info": {
   "codemirror_mode": {
    "name": "ipython",
    "version": 3
   },
   "file_extension": ".py",
   "mimetype": "text/x-python",
   "name": "python",
   "nbconvert_exporter": "python",
   "pygments_lexer": "ipython3",
   "version": "3.7.4"
  }
 },
 "nbformat": 4,
 "nbformat_minor": 4
}
