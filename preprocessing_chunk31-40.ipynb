{
 "cells": [
  {
   "cell_type": "code",
   "execution_count": 1,
   "metadata": {},
   "outputs": [],
   "source": [
    "import json\n",
    "import cv2\n",
    "import os\n",
    "import shutil\n",
    "import numpy as np\n",
    "from tqdm import tqdm"
   ]
  },
  {
   "cell_type": "code",
   "execution_count": 2,
   "metadata": {},
   "outputs": [],
   "source": [
    "def preprocess(chunk):\n",
    "    videos_dir = f'/data/deepfake/dfdc_train_part_{chunk}'\n",
    "    real_dir = f'/data/deepfake/dfdc_train_part_{chunk}/real'\n",
    "    fake_dir = f'/data/deepfake/dfdc_train_part_{chunk}/fake'\n",
    "    label_file = f'/data/deepfake/dfdc_train_part_{chunk}/metadata.json'\n",
    "    \n",
    "    os.makedirs(real_dir, exist_ok=True)\n",
    "    os.makedirs(fake_dir, exist_ok=True)\n",
    "    \n",
    "    with open(label_file) as f:\n",
    "        labels = json.load(f)\n",
    "        \n",
    "    videos = os.listdir(videos_dir)\n",
    "    \n",
    "    def getFrames(videoFile, frame_no, output_dir):\n",
    "        video = videoFile.split('/')[-1]\n",
    "        jpg = video[:-4] + '_' + str(frame_no) + '.jpg'\n",
    "        output = os.path.join(output_dir, jpg)\n",
    "        cap = cv2.VideoCapture(videoFile)\n",
    "        cap.set(1,frame_no)\n",
    "        ret, frame = cap.read()\n",
    "        cv2.imwrite(output, frame)\n",
    "        cap.release()\n",
    "        \n",
    "        \n",
    "    for v in videos:\n",
    "        if v.endswith('mp4'):\n",
    "            if labels[v]['label'] == 'FAKE':\n",
    "                # set video path and get 150th frame\n",
    "                v = os.path.join(videos_dir, v)\n",
    "                try:\n",
    "                    getFrames(v, 150, fake_dir)\n",
    "                except:\n",
    "                    pass\n",
    "                \n",
    "            else:\n",
    "                # set video path and get 150th frame\n",
    "                v = os.path.join(videos_dir, v)\n",
    "                try:\n",
    "                    getFrames(v, 150, real_dir)\n",
    "                except:\n",
    "                    pass"
   ]
  },
  {
   "cell_type": "code",
   "execution_count": null,
   "metadata": {
    "scrolled": true
   },
   "outputs": [
    {
     "name": "stderr",
     "output_type": "stream",
     "text": [
      "\r",
      "  0%|          | 0/10 [00:00<?, ?it/s]"
     ]
    },
    {
     "name": "stdout",
     "output_type": "stream",
     "text": [
      "preprocessing chunk #31...\n"
     ]
    },
    {
     "name": "stderr",
     "output_type": "stream",
     "text": [
      "\r",
      " 10%|█         | 1/10 [16:24<2:27:39, 984.43s/it]"
     ]
    },
    {
     "name": "stdout",
     "output_type": "stream",
     "text": [
      "preprocessing chunk #32...\n"
     ]
    },
    {
     "name": "stderr",
     "output_type": "stream",
     "text": [
      "\r",
      " 20%|██        | 2/10 [31:43<2:08:39, 964.96s/it]"
     ]
    },
    {
     "name": "stdout",
     "output_type": "stream",
     "text": [
      "preprocessing chunk #33...\n"
     ]
    },
    {
     "name": "stderr",
     "output_type": "stream",
     "text": [
      "\r",
      " 30%|███       | 3/10 [46:40<1:50:10, 944.39s/it]"
     ]
    },
    {
     "name": "stdout",
     "output_type": "stream",
     "text": [
      "preprocessing chunk #34...\n"
     ]
    },
    {
     "name": "stderr",
     "output_type": "stream",
     "text": [
      "\r",
      " 40%|████      | 4/10 [1:03:42<1:36:45, 967.61s/it]"
     ]
    },
    {
     "name": "stdout",
     "output_type": "stream",
     "text": [
      "preprocessing chunk #35...\n"
     ]
    },
    {
     "name": "stderr",
     "output_type": "stream",
     "text": [
      "\r",
      " 50%|█████     | 5/10 [1:20:26<1:21:33, 978.65s/it]"
     ]
    },
    {
     "name": "stdout",
     "output_type": "stream",
     "text": [
      "preprocessing chunk #36...\n"
     ]
    },
    {
     "name": "stderr",
     "output_type": "stream",
     "text": [
      "\r",
      " 60%|██████    | 6/10 [1:36:12<1:04:35, 968.91s/it]"
     ]
    },
    {
     "name": "stdout",
     "output_type": "stream",
     "text": [
      "preprocessing chunk #37...\n"
     ]
    },
    {
     "name": "stderr",
     "output_type": "stream",
     "text": [
      "\r",
      " 70%|███████   | 7/10 [1:51:01<47:14, 944.84s/it]  "
     ]
    },
    {
     "name": "stdout",
     "output_type": "stream",
     "text": [
      "preprocessing chunk #38...\n"
     ]
    },
    {
     "name": "stderr",
     "output_type": "stream",
     "text": [
      "\r",
      " 80%|████████  | 8/10 [2:05:23<30:40, 920.09s/it]"
     ]
    },
    {
     "name": "stdout",
     "output_type": "stream",
     "text": [
      "preprocessing chunk #39...\n"
     ]
    },
    {
     "name": "stderr",
     "output_type": "stream",
     "text": [
      "\r",
      " 90%|█████████ | 9/10 [2:20:11<15:10, 910.34s/it]"
     ]
    },
    {
     "name": "stdout",
     "output_type": "stream",
     "text": [
      "preprocessing chunk #40...\n"
     ]
    },
    {
     "name": "stderr",
     "output_type": "stream",
     "text": [
      "\r",
      "100%|██████████| 10/10 [2:31:57<00:00, 849.09s/it]"
     ]
    }
   ],
   "source": [
    "for i in tqdm(range(31, 41)):\n",
    "    print(f'preprocessing chunk #{i}...')\n",
    "    preprocess(i)"
   ]
  },
  {
   "cell_type": "code",
   "execution_count": null,
   "metadata": {},
   "outputs": [],
   "source": []
  }
 ],
 "metadata": {
  "kernelspec": {
   "display_name": "Python 3",
   "language": "python",
   "name": "python3"
  },
  "language_info": {
   "codemirror_mode": {
    "name": "ipython",
    "version": 3
   },
   "file_extension": ".py",
   "mimetype": "text/x-python",
   "name": "python",
   "nbconvert_exporter": "python",
   "pygments_lexer": "ipython3",
   "version": "3.7.4"
  }
 },
 "nbformat": 4,
 "nbformat_minor": 4
}
